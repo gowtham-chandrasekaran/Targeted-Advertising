{
  "cells": [
    {
      "cell_type": "markdown",
      "metadata": {
        "id": "VU5I_CRBut8H"
      },
      "source": [
        "#Code to implement a email folder crawler.\n",
        "\n",
        "The code crawls through three levels of the folders and opens every file inside it.\n",
        "\n",
        "The number of user folders to open is also customizable."
      ]
    },
    {
      "cell_type": "code",
      "execution_count": 3,
      "metadata": {
        "id": "niB89eC8ZjaS"
      },
      "outputs": [],
      "source": [
        "import pandas as pd\n",
        "import io as io\n",
        "import email\n",
        "import collections\n",
        "import sys\n",
        "import os\n",
        "from os import listdir\n",
        "from os.path import isfile, join\n",
        "from pprint import pprint\n",
        "\n",
        "# Function to extract email body, from and to ids\n",
        "def parsemessage(raw_email,user):\n",
        "  lines=raw_email.split('\\n')\n",
        "  # print(lines)\n",
        "  body=[]\n",
        "  to_list=[]\n",
        "  from_list=[]\n",
        "  keys_to_extract=['to','from']\n",
        "  email={}\n",
        "  text=''\n",
        "  for line in lines:\n",
        "\n",
        "    # To read body of the email\n",
        "    if ':' not in line:\n",
        "      # Some of the emails had this to before the body of the email\n",
        "      if 'original message' in line.lower():\n",
        "        body.append(text)\n",
        "        text=''\n",
        "        continue\n",
        "      text+=line.strip()\n",
        "      \n",
        "    # To read from and to of the email\n",
        "    else:\n",
        "      pairs=line.split(':')\n",
        "      key=pairs[0].lower()\n",
        "      val=pairs[1].strip()\n",
        "      if key in keys_to_extract:\n",
        "          email[key]=val\n",
        "          if key=='from':\n",
        "            from_list.append(val)\n",
        "          elif key==\"to\":\n",
        "            to_list.append(val)\n",
        "\n",
        "  body.append(text)\n",
        "  dict = {'body': body, 'from': from_list, 'to': to_list, 'user': user}\n",
        "  df = pd.DataFrame(dict)\n",
        "  return dict\n",
        "\n",
        "\n",
        "# Get directory path from command line\n",
        "path = \"/content/drive/MyDrive/mail_data\" + \"/\"\n",
        "\n",
        "#To visit only specific folders under each user\n",
        "# visit_folders = [\"inbox\",\"sent\",\"sent_mail\",\"discussion_threads\",\"favorites\"]\n",
        "parent_folders = []\n",
        "parsed_email_list = []\n",
        "\n",
        "#Reading only 5 users emails\n",
        "user_count = 5\n",
        "\n",
        "# Storing all users names in parent_folders list\n",
        "for folder in listdir(path):\n",
        "    parent_folders.append(folder)\n",
        "\n",
        "# Iterate through files in directory\n",
        "for user in parent_folders[:user_count]:\n",
        "    path_check = path + user\n",
        "    if os.path.isdir(path_check) == False:\n",
        "        continue\n",
        "    path2 = path_check+\"/\"\n",
        "    for sub_folder in listdir(path2):\n",
        "        # To only visit specific subfolders \n",
        "        # if sub_folder in visit_folders:\n",
        "        path_check_2 = path2+sub_folder\n",
        "        if os.path.isdir(path_check_2) == False:\n",
        "            continue\n",
        "        path3 = path_check_2+\"/\"\n",
        "        for file in listdir(path3):\n",
        "            path_check_3 = path3+file\n",
        "            if os.path.isfile(path_check_3):\n",
        "              # Including try and except blocks \n",
        "              try:\n",
        "                # print(path3)\n",
        "                mailfile=io.open(path_check_3)\n",
        "                content=mailfile.read()\n",
        "                # print(content)\n",
        "                parsed_email = parsemessage(content,user)\n",
        "                # print(parsed_email)\n",
        "                parsed_email_list.append(parsed_email)\n",
        "              except:\n",
        "                continue                    \n",
        "df = pd.DataFrame.from_records(parsed_email_list)"
      ]
    },
    {
      "cell_type": "code",
      "execution_count": 4,
      "metadata": {
        "colab": {
          "base_uri": "https://localhost:8080/",
          "height": 423
        },
        "id": "7P3LrpJK6vD6",
        "outputId": "ac6d57b2-a6eb-4183-8c16-261854e45280"
      },
      "outputs": [
        {
          "data": {
            "text/html": [
              "\n",
              "  <div id=\"df-45849bbb-8773-4dcd-b6cf-cceaad20fe34\">\n",
              "    <div class=\"colab-df-container\">\n",
              "      <div>\n",
              "<style scoped>\n",
              "    .dataframe tbody tr th:only-of-type {\n",
              "        vertical-align: middle;\n",
              "    }\n",
              "\n",
              "    .dataframe tbody tr th {\n",
              "        vertical-align: top;\n",
              "    }\n",
              "\n",
              "    .dataframe thead th {\n",
              "        text-align: right;\n",
              "    }\n",
              "</style>\n",
              "<table border=\"1\" class=\"dataframe\">\n",
              "  <thead>\n",
              "    <tr style=\"text-align: right;\">\n",
              "      <th></th>\n",
              "      <th>body</th>\n",
              "      <th>from</th>\n",
              "      <th>to</th>\n",
              "      <th>user</th>\n",
              "    </tr>\n",
              "  </thead>\n",
              "  <tbody>\n",
              "    <tr>\n",
              "      <th>0</th>\n",
              "      <td>[Good luck and hope to stay in touch!Utku]</td>\n",
              "      <td>[tom.may@enron.com]</td>\n",
              "      <td>[harry.arora@enron.com]</td>\n",
              "      <td>arora-h</td>\n",
              "    </tr>\n",
              "    <tr>\n",
              "      <th>1</th>\n",
              "      <td>[Files are bigger than the limit, so I am tryi...</td>\n",
              "      <td>[hai.chen@enron.com]</td>\n",
              "      <td>[harry.arora@enron.com]</td>\n",
              "      <td>arora-h</td>\n",
              "    </tr>\n",
              "    <tr>\n",
              "      <th>2</th>\n",
              "      <td>[---Tom HahnExecutive Vice PresidentAPB Energy...</td>\n",
              "      <td>[tom.hahn@apbenergy.com]</td>\n",
              "      <td>[steve.wang@enron.com, robert.stalford@enron.c...</td>\n",
              "      <td>arora-h</td>\n",
              "    </tr>\n",
              "    <tr>\n",
              "      <th>3</th>\n",
              "      <td>[Good morning - these are the levels we will b...</td>\n",
              "      <td>[wsandberg3@attbi.com]</td>\n",
              "      <td>[wsandberg3@attbi.com]</td>\n",
              "      <td>arora-h</td>\n",
              "    </tr>\n",
              "    <tr>\n",
              "      <th>4</th>\n",
              "      <td>[]</td>\n",
              "      <td>[arsystem@mailman.enron.com]</td>\n",
              "      <td>[harry.arora@enron.com]</td>\n",
              "      <td>arora-h</td>\n",
              "    </tr>\n",
              "    <tr>\n",
              "      <th>...</th>\n",
              "      <td>...</td>\n",
              "      <td>...</td>\n",
              "      <td>...</td>\n",
              "      <td>...</td>\n",
              "    </tr>\n",
              "    <tr>\n",
              "      <th>2600</th>\n",
              "      <td>[mark.guzman@enron.com, leaf.harasin@enron.com...</td>\n",
              "      <td>[bill.williams@enron.com, Williams III, Bill]</td>\n",
              "      <td>[john.anderson@enron.com, todd.bland@enron.com...</td>\n",
              "      <td>williams-w3</td>\n",
              "    </tr>\n",
              "    <tr>\n",
              "      <th>2601</th>\n",
              "      <td>[Apparently not.The EPE preschedule sheet had ...</td>\n",
              "      <td>[bill.williams@enron.com, Symes, Kate, William...</td>\n",
              "      <td>[kate.symes@enron.com, Williams III, Bill, Sym...</td>\n",
              "      <td>williams-w3</td>\n",
              "    </tr>\n",
              "    <tr>\n",
              "      <th>2602</th>\n",
              "      <td>[This is from a guy on our floor.  He's a summ...</td>\n",
              "      <td>[bill.williams@enron.com]</td>\n",
              "      <td>[morganize@yahoo.com]</td>\n",
              "      <td>williams-w3</td>\n",
              "    </tr>\n",
              "    <tr>\n",
              "      <th>2603</th>\n",
              "      <td>[leaf.harasin@enron.com, eric.linder@enron.com...</td>\n",
              "      <td>[bill.williams@enron.com, =09Malowney, John =20]</td>\n",
              "      <td>[john.malowney@enron.com, =09Williams III, Bill]</td>\n",
              "      <td>williams-w3</td>\n",
              "    </tr>\n",
              "    <tr>\n",
              "      <th>2604</th>\n",
              "      <td>[Thank you Jill, Dave,You are all set for your...</td>\n",
              "      <td>[bill.williams@enron.com, Chatterton, Jill]</td>\n",
              "      <td>[jill.chatterton@enron.com, Poston, David]</td>\n",
              "      <td>williams-w3</td>\n",
              "    </tr>\n",
              "  </tbody>\n",
              "</table>\n",
              "<p>2605 rows × 4 columns</p>\n",
              "</div>\n",
              "      <button class=\"colab-df-convert\" onclick=\"convertToInteractive('df-45849bbb-8773-4dcd-b6cf-cceaad20fe34')\"\n",
              "              title=\"Convert this dataframe to an interactive table.\"\n",
              "              style=\"display:none;\">\n",
              "        \n",
              "  <svg xmlns=\"http://www.w3.org/2000/svg\" height=\"24px\"viewBox=\"0 0 24 24\"\n",
              "       width=\"24px\">\n",
              "    <path d=\"M0 0h24v24H0V0z\" fill=\"none\"/>\n",
              "    <path d=\"M18.56 5.44l.94 2.06.94-2.06 2.06-.94-2.06-.94-.94-2.06-.94 2.06-2.06.94zm-11 1L8.5 8.5l.94-2.06 2.06-.94-2.06-.94L8.5 2.5l-.94 2.06-2.06.94zm10 10l.94 2.06.94-2.06 2.06-.94-2.06-.94-.94-2.06-.94 2.06-2.06.94z\"/><path d=\"M17.41 7.96l-1.37-1.37c-.4-.4-.92-.59-1.43-.59-.52 0-1.04.2-1.43.59L10.3 9.45l-7.72 7.72c-.78.78-.78 2.05 0 2.83L4 21.41c.39.39.9.59 1.41.59.51 0 1.02-.2 1.41-.59l7.78-7.78 2.81-2.81c.8-.78.8-2.07 0-2.86zM5.41 20L4 18.59l7.72-7.72 1.47 1.35L5.41 20z\"/>\n",
              "  </svg>\n",
              "      </button>\n",
              "      \n",
              "  <style>\n",
              "    .colab-df-container {\n",
              "      display:flex;\n",
              "      flex-wrap:wrap;\n",
              "      gap: 12px;\n",
              "    }\n",
              "\n",
              "    .colab-df-convert {\n",
              "      background-color: #E8F0FE;\n",
              "      border: none;\n",
              "      border-radius: 50%;\n",
              "      cursor: pointer;\n",
              "      display: none;\n",
              "      fill: #1967D2;\n",
              "      height: 32px;\n",
              "      padding: 0 0 0 0;\n",
              "      width: 32px;\n",
              "    }\n",
              "\n",
              "    .colab-df-convert:hover {\n",
              "      background-color: #E2EBFA;\n",
              "      box-shadow: 0px 1px 2px rgba(60, 64, 67, 0.3), 0px 1px 3px 1px rgba(60, 64, 67, 0.15);\n",
              "      fill: #174EA6;\n",
              "    }\n",
              "\n",
              "    [theme=dark] .colab-df-convert {\n",
              "      background-color: #3B4455;\n",
              "      fill: #D2E3FC;\n",
              "    }\n",
              "\n",
              "    [theme=dark] .colab-df-convert:hover {\n",
              "      background-color: #434B5C;\n",
              "      box-shadow: 0px 1px 3px 1px rgba(0, 0, 0, 0.15);\n",
              "      filter: drop-shadow(0px 1px 2px rgba(0, 0, 0, 0.3));\n",
              "      fill: #FFFFFF;\n",
              "    }\n",
              "  </style>\n",
              "\n",
              "      <script>\n",
              "        const buttonEl =\n",
              "          document.querySelector('#df-45849bbb-8773-4dcd-b6cf-cceaad20fe34 button.colab-df-convert');\n",
              "        buttonEl.style.display =\n",
              "          google.colab.kernel.accessAllowed ? 'block' : 'none';\n",
              "\n",
              "        async function convertToInteractive(key) {\n",
              "          const element = document.querySelector('#df-45849bbb-8773-4dcd-b6cf-cceaad20fe34');\n",
              "          const dataTable =\n",
              "            await google.colab.kernel.invokeFunction('convertToInteractive',\n",
              "                                                     [key], {});\n",
              "          if (!dataTable) return;\n",
              "\n",
              "          const docLinkHtml = 'Like what you see? Visit the ' +\n",
              "            '<a target=\"_blank\" href=https://colab.research.google.com/notebooks/data_table.ipynb>data table notebook</a>'\n",
              "            + ' to learn more about interactive tables.';\n",
              "          element.innerHTML = '';\n",
              "          dataTable['output_type'] = 'display_data';\n",
              "          await google.colab.output.renderOutput(dataTable, element);\n",
              "          const docLink = document.createElement('div');\n",
              "          docLink.innerHTML = docLinkHtml;\n",
              "          element.appendChild(docLink);\n",
              "        }\n",
              "      </script>\n",
              "    </div>\n",
              "  </div>\n",
              "  "
            ],
            "text/plain": [
              "                                                   body  \\\n",
              "0            [Good luck and hope to stay in touch!Utku]   \n",
              "1     [Files are bigger than the limit, so I am tryi...   \n",
              "2     [---Tom HahnExecutive Vice PresidentAPB Energy...   \n",
              "3     [Good morning - these are the levels we will b...   \n",
              "4                                                    []   \n",
              "...                                                 ...   \n",
              "2600  [mark.guzman@enron.com, leaf.harasin@enron.com...   \n",
              "2601  [Apparently not.The EPE preschedule sheet had ...   \n",
              "2602  [This is from a guy on our floor.  He's a summ...   \n",
              "2603  [leaf.harasin@enron.com, eric.linder@enron.com...   \n",
              "2604  [Thank you Jill, Dave,You are all set for your...   \n",
              "\n",
              "                                                   from  \\\n",
              "0                                   [tom.may@enron.com]   \n",
              "1                                  [hai.chen@enron.com]   \n",
              "2                              [tom.hahn@apbenergy.com]   \n",
              "3                                [wsandberg3@attbi.com]   \n",
              "4                          [arsystem@mailman.enron.com]   \n",
              "...                                                 ...   \n",
              "2600      [bill.williams@enron.com, Williams III, Bill]   \n",
              "2601  [bill.williams@enron.com, Symes, Kate, William...   \n",
              "2602                          [bill.williams@enron.com]   \n",
              "2603   [bill.williams@enron.com, =09Malowney, John =20]   \n",
              "2604        [bill.williams@enron.com, Chatterton, Jill]   \n",
              "\n",
              "                                                     to         user  \n",
              "0                               [harry.arora@enron.com]      arora-h  \n",
              "1                               [harry.arora@enron.com]      arora-h  \n",
              "2     [steve.wang@enron.com, robert.stalford@enron.c...      arora-h  \n",
              "3                                [wsandberg3@attbi.com]      arora-h  \n",
              "4                               [harry.arora@enron.com]      arora-h  \n",
              "...                                                 ...          ...  \n",
              "2600  [john.anderson@enron.com, todd.bland@enron.com...  williams-w3  \n",
              "2601  [kate.symes@enron.com, Williams III, Bill, Sym...  williams-w3  \n",
              "2602                              [morganize@yahoo.com]  williams-w3  \n",
              "2603   [john.malowney@enron.com, =09Williams III, Bill]  williams-w3  \n",
              "2604         [jill.chatterton@enron.com, Poston, David]  williams-w3  \n",
              "\n",
              "[2605 rows x 4 columns]"
            ]
          },
          "execution_count": 4,
          "metadata": {},
          "output_type": "execute_result"
        }
      ],
      "source": [
        "df"
      ]
    },
    {
      "cell_type": "code",
      "execution_count": 5,
      "metadata": {
        "colab": {
          "base_uri": "https://localhost:8080/"
        },
        "id": "MvydGxkLtpUo",
        "outputId": "ca5423e8-2949-4d31-fb96-56ce5baac645"
      },
      "outputs": [
        {
          "data": {
            "text/plain": [
              "0              [Good luck and hope to stay in touch!Utku]\n",
              "1       [Files are bigger than the limit, so I am tryi...\n",
              "2       [---Tom HahnExecutive Vice PresidentAPB Energy...\n",
              "3       [Good morning - these are the levels we will b...\n",
              "4                                                      []\n",
              "                              ...                        \n",
              "2600    [mark.guzman@enron.com, leaf.harasin@enron.com...\n",
              "2601    [Apparently not.The EPE preschedule sheet had ...\n",
              "2602    [This is from a guy on our floor.  He's a summ...\n",
              "2603    [leaf.harasin@enron.com, eric.linder@enron.com...\n",
              "2604    [Thank you Jill, Dave,You are all set for your...\n",
              "Name: body, Length: 2605, dtype: object"
            ]
          },
          "execution_count": 5,
          "metadata": {},
          "output_type": "execute_result"
        }
      ],
      "source": [
        "df['body']"
      ]
    },
    {
      "cell_type": "code",
      "execution_count": 6,
      "metadata": {
        "colab": {
          "base_uri": "https://localhost:8080/"
        },
        "id": "LMApIMWGCQnh",
        "outputId": "ee768691-d82a-4d78-8f17-d28226ee4976"
      },
      "outputs": [
        {
          "data": {
            "text/plain": [
              "0                                     [tom.may@enron.com]\n",
              "1                                    [hai.chen@enron.com]\n",
              "2                                [tom.hahn@apbenergy.com]\n",
              "3                                  [wsandberg3@attbi.com]\n",
              "4                            [arsystem@mailman.enron.com]\n",
              "                              ...                        \n",
              "2600        [bill.williams@enron.com, Williams III, Bill]\n",
              "2601    [bill.williams@enron.com, Symes, Kate, William...\n",
              "2602                            [bill.williams@enron.com]\n",
              "2603     [bill.williams@enron.com, =09Malowney, John =20]\n",
              "2604          [bill.williams@enron.com, Chatterton, Jill]\n",
              "Name: from, Length: 2605, dtype: object"
            ]
          },
          "execution_count": 6,
          "metadata": {},
          "output_type": "execute_result"
        }
      ],
      "source": [
        "df['from']"
      ]
    },
    {
      "cell_type": "code",
      "execution_count": 7,
      "metadata": {
        "colab": {
          "base_uri": "https://localhost:8080/"
        },
        "id": "gqAp8QLs_pBG",
        "outputId": "24c4fb99-e4a0-4c90-c540-e5946a7d9eb4"
      },
      "outputs": [
        {
          "data": {
            "text/plain": [
              "0                                 [harry.arora@enron.com]\n",
              "1                                 [harry.arora@enron.com]\n",
              "2       [steve.wang@enron.com, robert.stalford@enron.c...\n",
              "3                                  [wsandberg3@attbi.com]\n",
              "4                                 [harry.arora@enron.com]\n",
              "                              ...                        \n",
              "2600    [john.anderson@enron.com, todd.bland@enron.com...\n",
              "2601    [kate.symes@enron.com, Williams III, Bill, Sym...\n",
              "2602                                [morganize@yahoo.com]\n",
              "2603     [john.malowney@enron.com, =09Williams III, Bill]\n",
              "2604           [jill.chatterton@enron.com, Poston, David]\n",
              "Name: to, Length: 2605, dtype: object"
            ]
          },
          "execution_count": 7,
          "metadata": {},
          "output_type": "execute_result"
        }
      ],
      "source": [
        "df['to']"
      ]
    },
    {
      "cell_type": "markdown",
      "metadata": {
        "id": "cwaRZVIPIFPB"
      },
      "source": [
        "# Converting list of body text to single string type text comma separated"
      ]
    },
    {
      "cell_type": "code",
      "execution_count": 8,
      "metadata": {
        "id": "Hg6V7ZiO_rDq"
      },
      "outputs": [],
      "source": [
        "df['body'] = [','.join(map(str, l)) for l in df['body']]"
      ]
    },
    {
      "cell_type": "code",
      "execution_count": 9,
      "metadata": {
        "colab": {
          "base_uri": "https://localhost:8080/",
          "height": 36
        },
        "id": "KZ3LLh6gAyHD",
        "outputId": "e92cb822-b9cc-4d3a-c071-12573048b0e8"
      },
      "outputs": [
        {
          "data": {
            "application/vnd.google.colaboratory.intrinsic+json": {
              "type": "string"
            },
            "text/plain": [
              "'Files are bigger than the limit, so I am trying one by one.'"
            ]
          },
          "execution_count": 9,
          "metadata": {},
          "output_type": "execute_result"
        }
      ],
      "source": [
        "df['body'][1]"
      ]
    },
    {
      "cell_type": "markdown",
      "metadata": {
        "id": "2U6j2AUZF-g0"
      },
      "source": [
        "# Convert all words to lower for normalization of data"
      ]
    },
    {
      "cell_type": "code",
      "execution_count": 10,
      "metadata": {
        "id": "KWed4nzRFsfk"
      },
      "outputs": [],
      "source": [
        "df['body'] = df['body'].str.lower()"
      ]
    },
    {
      "cell_type": "markdown",
      "metadata": {
        "id": "VJJsQhnKBdU1"
      },
      "source": [
        "# Removing stop words from the body_string column"
      ]
    },
    {
      "cell_type": "code",
      "execution_count": 11,
      "metadata": {
        "colab": {
          "base_uri": "https://localhost:8080/"
        },
        "id": "_SNIv-Y7B209",
        "outputId": "1b697ba2-ebd6-4d6c-b47d-d10260d9bad7"
      },
      "outputs": [
        {
          "name": "stdout",
          "output_type": "stream",
          "text": [
            "[nltk_data] Downloading package stopwords to /root/nltk_data...\n",
            "[nltk_data]   Unzipping corpora/stopwords.zip.\n"
          ]
        },
        {
          "data": {
            "text/plain": [
              "True"
            ]
          },
          "execution_count": 11,
          "metadata": {},
          "output_type": "execute_result"
        }
      ],
      "source": [
        "import nltk\n",
        "nltk.download('stopwords')"
      ]
    },
    {
      "cell_type": "code",
      "execution_count": 12,
      "metadata": {
        "colab": {
          "base_uri": "https://localhost:8080/",
          "height": 36
        },
        "id": "9nEsoXQBAyco",
        "outputId": "8ee63c19-5cc6-4ccd-b15f-6eab3cb1d66e"
      },
      "outputs": [
        {
          "data": {
            "application/vnd.google.colaboratory.intrinsic+json": {
              "type": "string"
            },
            "text/plain": [
              "'good luck hope stay touch!utku'"
            ]
          },
          "execution_count": 12,
          "metadata": {},
          "output_type": "execute_result"
        }
      ],
      "source": [
        "# Import stopwords with nltk.\n",
        "from nltk.corpus import stopwords\n",
        "stop = stopwords.words('english')\n",
        "\n",
        "# removing the word enron as it was repeated in all emails as it is the company name\n",
        "stop.append('enron')\n",
        "\n",
        "# Removing all stop words and storing back in body column\n",
        "df['body'] = df['body'].apply(lambda x: ' '.join([word for word in x.split() if word not in (stop)]))\n",
        "df['body'][0]"
      ]
    },
    {
      "cell_type": "markdown",
      "metadata": {
        "id": "t-penJ-uDQho"
      },
      "source": [
        "# Removing numbers and other special characters from body"
      ]
    },
    {
      "cell_type": "code",
      "execution_count": 13,
      "metadata": {
        "id": "T1ZojqiKDIdK"
      },
      "outputs": [],
      "source": [
        "import numpy as np"
      ]
    },
    {
      "cell_type": "code",
      "execution_count": 14,
      "metadata": {
        "id": "kaajqQLrCBnq"
      },
      "outputs": [],
      "source": [
        "df['body'] = df['body'].fillna('').astype(str).str.replace(r'[^A-Za-z ]', '', regex=True).replace('', '', regex=False)"
      ]
    },
    {
      "cell_type": "code",
      "execution_count": 15,
      "metadata": {
        "colab": {
          "base_uri": "https://localhost:8080/",
          "height": 36
        },
        "id": "TPb1lQLkDKm5",
        "outputId": "156b23be-5c27-409e-a4f2-f7e38efe75a5"
      },
      "outputs": [
        {
          "data": {
            "application/vnd.google.colaboratory.intrinsic+json": {
              "type": "string"
            },
            "text/plain": [
              "'files bigger limit trying one one'"
            ]
          },
          "execution_count": 15,
          "metadata": {},
          "output_type": "execute_result"
        }
      ],
      "source": [
        "df['body'][1]"
      ]
    },
    {
      "cell_type": "markdown",
      "metadata": {
        "id": "DiSMn6iKUO5U"
      },
      "source": [
        "# Removing email ids from body of emails\n",
        "They are treated as stop words"
      ]
    },
    {
      "cell_type": "code",
      "execution_count": 16,
      "metadata": {
        "id": "D2CQGIIOQwE6"
      },
      "outputs": [],
      "source": [
        "def remove_emailid(line):\n",
        "  line = line.split()\n",
        "  new_line = \"\"\n",
        "  for word in line:\n",
        "    if \"com\" not in word:\n",
        "      new_line=new_line + word + \" \"\n",
        "  return new_line\n"
      ]
    },
    {
      "cell_type": "code",
      "execution_count": 17,
      "metadata": {
        "id": "Q4f9ESfFQOam"
      },
      "outputs": [],
      "source": [
        "df['body'] = df['body'].apply(remove_emailid)"
      ]
    },
    {
      "cell_type": "code",
      "execution_count": 18,
      "metadata": {
        "colab": {
          "base_uri": "https://localhost:8080/",
          "height": 88
        },
        "id": "uKWRkUreFGpK",
        "outputId": "ea5c23b0-d290-4b0f-c735-45af9d74ce35"
      },
      "outputs": [
        {
          "data": {
            "application/vnd.google.colaboratory.intrinsic+json": {
              "type": "string"
            },
            "text/plain": [
              "'htmlheadtitleyahoo bill pay new ebilltitleheadbodyif cant read message usingan email reader supports htmlyou switch textonly version email following go alert edit screen clicking edit icon pencilto right alert name alert edit screen choose text format optionwhich located right email address selection click finished save changestable cellpadding cellspacing bordertrtd widthtdtd valigntop alignrighthr noshade sizetdtrtablebrtable border cellpadding width cellspacingtrtdtable border cellpadding width cellspacingtr bgcolordcdcdctdbfont facearialbill pay alertfontbtdtd valigntop alignrighttdtrtrtd valigntop alignlefttable border cellpadding width cellspacingtrtd valigntop aligncentertable cellpadding border width cellspacingtrtd valigntop bgcolorffffcctdtrtrtdyou received new ebill southwestern bell due janullililiultdtrtabletdtrtabletdtd alignright widthtable border cellpadding cellspacingtrtd alignrighttable border cellpadding cellspacing widthtrtd alignrighttable border cellpadding cellspacingtrtrtabletdtdtdtrtabletdtrtabletdtrtabletdtrtablepcenterhr noshade width sizehr noshade sizecenterbodyhtml '"
            ]
          },
          "execution_count": 18,
          "metadata": {},
          "output_type": "execute_result"
        }
      ],
      "source": [
        "df['body'][10]"
      ]
    },
    {
      "cell_type": "markdown",
      "metadata": {
        "id": "NVlEH1zSTDaA"
      },
      "source": [
        "# Creating text files for different users"
      ]
    },
    {
      "cell_type": "code",
      "execution_count": 19,
      "metadata": {
        "id": "d5iGN2aAQlV1"
      },
      "outputs": [],
      "source": [
        "for user_name in df.user.unique():\n",
        "    fileName = user_name +\".txt\"\n",
        "    file = open(fileName,\"w+\") #creating a txt file if not already exists\n",
        "    \n",
        "    #adding rows for each unique image name \n",
        "    for row in df[df.user==user_name].values:\n",
        "        file.write(f\"{row[0]}\")"
      ]
    },
    {
      "cell_type": "markdown",
      "metadata": {
        "id": "IttAIUrNGpy_"
      },
      "source": [
        "# Plotting graph by converting categorical into numerical"
      ]
    },
    {
      "cell_type": "code",
      "execution_count": 20,
      "metadata": {
        "id": "tL-UKNwSHmqb"
      },
      "outputs": [],
      "source": [
        "from sklearn.feature_extraction.text import TfidfVectorizer"
      ]
    },
    {
      "cell_type": "code",
      "execution_count": 21,
      "metadata": {
        "id": "a8dcn2hNHOxD"
      },
      "outputs": [],
      "source": [
        "vect = TfidfVectorizer(stop_words='english', max_df=0.50, min_df=2,max_features=200)\n",
        "X = vect.fit_transform(df['body'])"
      ]
    },
    {
      "cell_type": "code",
      "execution_count": 22,
      "metadata": {
        "colab": {
          "base_uri": "https://localhost:8080/"
        },
        "id": "k3eVJmFFujYn",
        "outputId": "f077d1d9-0377-43a6-d599-a6e672719b24"
      },
      "outputs": [
        {
          "name": "stdout",
          "output_type": "stream",
          "text": [
            "  (0, 68)\t1.0\n",
            "  (3, 25)\t0.36251711744633003\n",
            "  (3, 139)\t0.3557477623121634\n",
            "  (3, 77)\t0.2878285151635443\n",
            "  (3, 161)\t0.4079535595776686\n",
            "  (3, 124)\t0.33091168814897853\n",
            "  (3, 148)\t0.3862501813581109\n",
            "  (3, 181)\t0.33133367442767525\n",
            "  (3, 68)\t0.3525333409656824\n",
            "  (6, 119)\t1.0\n",
            "  (9, 111)\t0.04853933923648922\n",
            "  (9, 101)\t0.05553227412487156\n",
            "  (9, 36)\t0.10616907747505588\n",
            "  (9, 191)\t0.05906754984204634\n",
            "  (9, 149)\t0.07901331717521691\n",
            "  (9, 145)\t0.0960488173239843\n",
            "  (9, 179)\t0.04680864019685135\n",
            "  (9, 189)\t0.04985143490227593\n",
            "  (9, 132)\t0.060843467721959296\n",
            "  (9, 23)\t0.12439445864784446\n",
            "  (9, 195)\t0.0576675729834549\n",
            "  (9, 196)\t0.18360261714583487\n",
            "  (9, 74)\t0.11670287511026309\n",
            "  (9, 175)\t0.24037561612032768\n",
            "  (9, 169)\t0.28051504962806567\n",
            "  :\t:\n",
            "  (2602, 100)\t0.5359902733473405\n",
            "  (2602, 19)\t0.1567765993412929\n",
            "  (2602, 104)\t0.14442459596360105\n",
            "  (2602, 152)\t0.1703067323427484\n",
            "  (2602, 191)\t0.17210110579142415\n",
            "  (2602, 189)\t0.14524873801119995\n",
            "  (2602, 169)\t0.2043294091308368\n",
            "  (2602, 48)\t0.11749616731091361\n",
            "  (2603, 86)\t0.14082735753483108\n",
            "  (2603, 182)\t0.14118777717444775\n",
            "  (2603, 69)\t0.12871839462131526\n",
            "  (2603, 7)\t0.12971869871705002\n",
            "  (2603, 98)\t0.08862589724013505\n",
            "  (2603, 90)\t0.08111678627777232\n",
            "  (2603, 71)\t0.22886187927233928\n",
            "  (2603, 118)\t0.0872352844042365\n",
            "  (2603, 100)\t0.19533949961691685\n",
            "  (2603, 152)\t0.12413520741510198\n",
            "  (2603, 179)\t0.0994085839116923\n",
            "  (2603, 195)\t0.12246994879152742\n",
            "  (2603, 52)\t0.8609175620642265\n",
            "  (2603, 139)\t0.11901050589360475\n",
            "  (2603, 161)\t0.13647523512412876\n",
            "  (2604, 166)\t0.7058252476535756\n",
            "  (2604, 109)\t0.708385996314699\n"
          ]
        }
      ],
      "source": [
        "print(X)"
      ]
    },
    {
      "cell_type": "code",
      "execution_count": 23,
      "metadata": {
        "colab": {
          "base_uri": "https://localhost:8080/"
        },
        "id": "XdZJztTIxrYu",
        "outputId": "994c8b72-47e7-4639-a5f5-5bb0cd69b5c8"
      },
      "outputs": [
        {
          "name": "stderr",
          "output_type": "stream",
          "text": [
            "/usr/local/lib/python3.7/dist-packages/sklearn/utils/deprecation.py:87: FutureWarning: Function get_feature_names is deprecated; get_feature_names is deprecated in 1.0 and will be removed in 1.2. Please use get_feature_names_out instead.\n",
            "  warnings.warn(msg, category=FutureWarning)\n"
          ]
        }
      ],
      "source": [
        "vectorized_df = pd.DataFrame(X.toarray(), columns=vect.get_feature_names())"
      ]
    },
    {
      "cell_type": "code",
      "execution_count": 24,
      "metadata": {
        "colab": {
          "base_uri": "https://localhost:8080/",
          "height": 423
        },
        "id": "MD1vfv7Hvim-",
        "outputId": "19cdf2b5-a6c5-46a6-fa6a-77a32b11645f"
      },
      "outputs": [
        {
          "data": {
            "text/html": [
              "\n",
              "  <div id=\"df-67cce214-6256-4051-80c6-a999160689a3\">\n",
              "    <div class=\"colab-df-container\">\n",
              "      <div>\n",
              "<style scoped>\n",
              "    .dataframe tbody tr th:only-of-type {\n",
              "        vertical-align: middle;\n",
              "    }\n",
              "\n",
              "    .dataframe tbody tr th {\n",
              "        vertical-align: top;\n",
              "    }\n",
              "\n",
              "    .dataframe thead th {\n",
              "        text-align: right;\n",
              "    }\n",
              "</style>\n",
              "<table border=\"1\" class=\"dataframe\">\n",
              "  <thead>\n",
              "    <tr style=\"text-align: right;\">\n",
              "      <th></th>\n",
              "      <th>according</th>\n",
              "      <th>accounting</th>\n",
              "      <th>administration</th>\n",
              "      <th>agreement</th>\n",
              "      <th>america</th>\n",
              "      <th>andersen</th>\n",
              "      <th>arthur</th>\n",
              "      <th>asked</th>\n",
              "      <th>assets</th>\n",
              "      <th>attached</th>\n",
              "      <th>...</th>\n",
              "      <th>washington</th>\n",
              "      <th>way</th>\n",
              "      <th>week</th>\n",
              "      <th>white</th>\n",
              "      <th>work</th>\n",
              "      <th>working</th>\n",
              "      <th>year</th>\n",
              "      <th>years</th>\n",
              "      <th>yesterday</th>\n",
              "      <th>york</th>\n",
              "    </tr>\n",
              "  </thead>\n",
              "  <tbody>\n",
              "    <tr>\n",
              "      <th>0</th>\n",
              "      <td>0.0</td>\n",
              "      <td>0.0</td>\n",
              "      <td>0.0</td>\n",
              "      <td>0.0</td>\n",
              "      <td>0.0</td>\n",
              "      <td>0.0</td>\n",
              "      <td>0.0</td>\n",
              "      <td>0.000000</td>\n",
              "      <td>0.0</td>\n",
              "      <td>0.0</td>\n",
              "      <td>...</td>\n",
              "      <td>0.0</td>\n",
              "      <td>0.000000</td>\n",
              "      <td>0.0</td>\n",
              "      <td>0.0</td>\n",
              "      <td>0.000000</td>\n",
              "      <td>0.00000</td>\n",
              "      <td>0.0</td>\n",
              "      <td>0.0</td>\n",
              "      <td>0.0</td>\n",
              "      <td>0.0</td>\n",
              "    </tr>\n",
              "    <tr>\n",
              "      <th>1</th>\n",
              "      <td>0.0</td>\n",
              "      <td>0.0</td>\n",
              "      <td>0.0</td>\n",
              "      <td>0.0</td>\n",
              "      <td>0.0</td>\n",
              "      <td>0.0</td>\n",
              "      <td>0.0</td>\n",
              "      <td>0.000000</td>\n",
              "      <td>0.0</td>\n",
              "      <td>0.0</td>\n",
              "      <td>...</td>\n",
              "      <td>0.0</td>\n",
              "      <td>0.000000</td>\n",
              "      <td>0.0</td>\n",
              "      <td>0.0</td>\n",
              "      <td>0.000000</td>\n",
              "      <td>0.00000</td>\n",
              "      <td>0.0</td>\n",
              "      <td>0.0</td>\n",
              "      <td>0.0</td>\n",
              "      <td>0.0</td>\n",
              "    </tr>\n",
              "    <tr>\n",
              "      <th>2</th>\n",
              "      <td>0.0</td>\n",
              "      <td>0.0</td>\n",
              "      <td>0.0</td>\n",
              "      <td>0.0</td>\n",
              "      <td>0.0</td>\n",
              "      <td>0.0</td>\n",
              "      <td>0.0</td>\n",
              "      <td>0.000000</td>\n",
              "      <td>0.0</td>\n",
              "      <td>0.0</td>\n",
              "      <td>...</td>\n",
              "      <td>0.0</td>\n",
              "      <td>0.000000</td>\n",
              "      <td>0.0</td>\n",
              "      <td>0.0</td>\n",
              "      <td>0.000000</td>\n",
              "      <td>0.00000</td>\n",
              "      <td>0.0</td>\n",
              "      <td>0.0</td>\n",
              "      <td>0.0</td>\n",
              "      <td>0.0</td>\n",
              "    </tr>\n",
              "    <tr>\n",
              "      <th>3</th>\n",
              "      <td>0.0</td>\n",
              "      <td>0.0</td>\n",
              "      <td>0.0</td>\n",
              "      <td>0.0</td>\n",
              "      <td>0.0</td>\n",
              "      <td>0.0</td>\n",
              "      <td>0.0</td>\n",
              "      <td>0.000000</td>\n",
              "      <td>0.0</td>\n",
              "      <td>0.0</td>\n",
              "      <td>...</td>\n",
              "      <td>0.0</td>\n",
              "      <td>0.000000</td>\n",
              "      <td>0.0</td>\n",
              "      <td>0.0</td>\n",
              "      <td>0.000000</td>\n",
              "      <td>0.00000</td>\n",
              "      <td>0.0</td>\n",
              "      <td>0.0</td>\n",
              "      <td>0.0</td>\n",
              "      <td>0.0</td>\n",
              "    </tr>\n",
              "    <tr>\n",
              "      <th>4</th>\n",
              "      <td>0.0</td>\n",
              "      <td>0.0</td>\n",
              "      <td>0.0</td>\n",
              "      <td>0.0</td>\n",
              "      <td>0.0</td>\n",
              "      <td>0.0</td>\n",
              "      <td>0.0</td>\n",
              "      <td>0.000000</td>\n",
              "      <td>0.0</td>\n",
              "      <td>0.0</td>\n",
              "      <td>...</td>\n",
              "      <td>0.0</td>\n",
              "      <td>0.000000</td>\n",
              "      <td>0.0</td>\n",
              "      <td>0.0</td>\n",
              "      <td>0.000000</td>\n",
              "      <td>0.00000</td>\n",
              "      <td>0.0</td>\n",
              "      <td>0.0</td>\n",
              "      <td>0.0</td>\n",
              "      <td>0.0</td>\n",
              "    </tr>\n",
              "    <tr>\n",
              "      <th>...</th>\n",
              "      <td>...</td>\n",
              "      <td>...</td>\n",
              "      <td>...</td>\n",
              "      <td>...</td>\n",
              "      <td>...</td>\n",
              "      <td>...</td>\n",
              "      <td>...</td>\n",
              "      <td>...</td>\n",
              "      <td>...</td>\n",
              "      <td>...</td>\n",
              "      <td>...</td>\n",
              "      <td>...</td>\n",
              "      <td>...</td>\n",
              "      <td>...</td>\n",
              "      <td>...</td>\n",
              "      <td>...</td>\n",
              "      <td>...</td>\n",
              "      <td>...</td>\n",
              "      <td>...</td>\n",
              "      <td>...</td>\n",
              "      <td>...</td>\n",
              "    </tr>\n",
              "    <tr>\n",
              "      <th>2600</th>\n",
              "      <td>0.0</td>\n",
              "      <td>0.0</td>\n",
              "      <td>0.0</td>\n",
              "      <td>0.0</td>\n",
              "      <td>0.0</td>\n",
              "      <td>0.0</td>\n",
              "      <td>0.0</td>\n",
              "      <td>0.000000</td>\n",
              "      <td>0.0</td>\n",
              "      <td>0.0</td>\n",
              "      <td>...</td>\n",
              "      <td>0.0</td>\n",
              "      <td>0.000000</td>\n",
              "      <td>0.0</td>\n",
              "      <td>0.0</td>\n",
              "      <td>0.000000</td>\n",
              "      <td>0.00000</td>\n",
              "      <td>0.0</td>\n",
              "      <td>0.0</td>\n",
              "      <td>0.0</td>\n",
              "      <td>0.0</td>\n",
              "    </tr>\n",
              "    <tr>\n",
              "      <th>2601</th>\n",
              "      <td>0.0</td>\n",
              "      <td>0.0</td>\n",
              "      <td>0.0</td>\n",
              "      <td>0.0</td>\n",
              "      <td>0.0</td>\n",
              "      <td>0.0</td>\n",
              "      <td>0.0</td>\n",
              "      <td>0.000000</td>\n",
              "      <td>0.0</td>\n",
              "      <td>0.0</td>\n",
              "      <td>...</td>\n",
              "      <td>0.0</td>\n",
              "      <td>0.000000</td>\n",
              "      <td>0.0</td>\n",
              "      <td>0.0</td>\n",
              "      <td>0.150270</td>\n",
              "      <td>0.00000</td>\n",
              "      <td>0.0</td>\n",
              "      <td>0.0</td>\n",
              "      <td>0.0</td>\n",
              "      <td>0.0</td>\n",
              "    </tr>\n",
              "    <tr>\n",
              "      <th>2602</th>\n",
              "      <td>0.0</td>\n",
              "      <td>0.0</td>\n",
              "      <td>0.0</td>\n",
              "      <td>0.0</td>\n",
              "      <td>0.0</td>\n",
              "      <td>0.0</td>\n",
              "      <td>0.0</td>\n",
              "      <td>0.000000</td>\n",
              "      <td>0.0</td>\n",
              "      <td>0.0</td>\n",
              "      <td>...</td>\n",
              "      <td>0.0</td>\n",
              "      <td>0.172101</td>\n",
              "      <td>0.0</td>\n",
              "      <td>0.0</td>\n",
              "      <td>0.298867</td>\n",
              "      <td>0.00000</td>\n",
              "      <td>0.0</td>\n",
              "      <td>0.0</td>\n",
              "      <td>0.0</td>\n",
              "      <td>0.0</td>\n",
              "    </tr>\n",
              "    <tr>\n",
              "      <th>2603</th>\n",
              "      <td>0.0</td>\n",
              "      <td>0.0</td>\n",
              "      <td>0.0</td>\n",
              "      <td>0.0</td>\n",
              "      <td>0.0</td>\n",
              "      <td>0.0</td>\n",
              "      <td>0.0</td>\n",
              "      <td>0.129719</td>\n",
              "      <td>0.0</td>\n",
              "      <td>0.0</td>\n",
              "      <td>...</td>\n",
              "      <td>0.0</td>\n",
              "      <td>0.000000</td>\n",
              "      <td>0.0</td>\n",
              "      <td>0.0</td>\n",
              "      <td>0.000000</td>\n",
              "      <td>0.12247</td>\n",
              "      <td>0.0</td>\n",
              "      <td>0.0</td>\n",
              "      <td>0.0</td>\n",
              "      <td>0.0</td>\n",
              "    </tr>\n",
              "    <tr>\n",
              "      <th>2604</th>\n",
              "      <td>0.0</td>\n",
              "      <td>0.0</td>\n",
              "      <td>0.0</td>\n",
              "      <td>0.0</td>\n",
              "      <td>0.0</td>\n",
              "      <td>0.0</td>\n",
              "      <td>0.0</td>\n",
              "      <td>0.000000</td>\n",
              "      <td>0.0</td>\n",
              "      <td>0.0</td>\n",
              "      <td>...</td>\n",
              "      <td>0.0</td>\n",
              "      <td>0.000000</td>\n",
              "      <td>0.0</td>\n",
              "      <td>0.0</td>\n",
              "      <td>0.000000</td>\n",
              "      <td>0.00000</td>\n",
              "      <td>0.0</td>\n",
              "      <td>0.0</td>\n",
              "      <td>0.0</td>\n",
              "      <td>0.0</td>\n",
              "    </tr>\n",
              "  </tbody>\n",
              "</table>\n",
              "<p>2605 rows × 200 columns</p>\n",
              "</div>\n",
              "      <button class=\"colab-df-convert\" onclick=\"convertToInteractive('df-67cce214-6256-4051-80c6-a999160689a3')\"\n",
              "              title=\"Convert this dataframe to an interactive table.\"\n",
              "              style=\"display:none;\">\n",
              "        \n",
              "  <svg xmlns=\"http://www.w3.org/2000/svg\" height=\"24px\"viewBox=\"0 0 24 24\"\n",
              "       width=\"24px\">\n",
              "    <path d=\"M0 0h24v24H0V0z\" fill=\"none\"/>\n",
              "    <path d=\"M18.56 5.44l.94 2.06.94-2.06 2.06-.94-2.06-.94-.94-2.06-.94 2.06-2.06.94zm-11 1L8.5 8.5l.94-2.06 2.06-.94-2.06-.94L8.5 2.5l-.94 2.06-2.06.94zm10 10l.94 2.06.94-2.06 2.06-.94-2.06-.94-.94-2.06-.94 2.06-2.06.94z\"/><path d=\"M17.41 7.96l-1.37-1.37c-.4-.4-.92-.59-1.43-.59-.52 0-1.04.2-1.43.59L10.3 9.45l-7.72 7.72c-.78.78-.78 2.05 0 2.83L4 21.41c.39.39.9.59 1.41.59.51 0 1.02-.2 1.41-.59l7.78-7.78 2.81-2.81c.8-.78.8-2.07 0-2.86zM5.41 20L4 18.59l7.72-7.72 1.47 1.35L5.41 20z\"/>\n",
              "  </svg>\n",
              "      </button>\n",
              "      \n",
              "  <style>\n",
              "    .colab-df-container {\n",
              "      display:flex;\n",
              "      flex-wrap:wrap;\n",
              "      gap: 12px;\n",
              "    }\n",
              "\n",
              "    .colab-df-convert {\n",
              "      background-color: #E8F0FE;\n",
              "      border: none;\n",
              "      border-radius: 50%;\n",
              "      cursor: pointer;\n",
              "      display: none;\n",
              "      fill: #1967D2;\n",
              "      height: 32px;\n",
              "      padding: 0 0 0 0;\n",
              "      width: 32px;\n",
              "    }\n",
              "\n",
              "    .colab-df-convert:hover {\n",
              "      background-color: #E2EBFA;\n",
              "      box-shadow: 0px 1px 2px rgba(60, 64, 67, 0.3), 0px 1px 3px 1px rgba(60, 64, 67, 0.15);\n",
              "      fill: #174EA6;\n",
              "    }\n",
              "\n",
              "    [theme=dark] .colab-df-convert {\n",
              "      background-color: #3B4455;\n",
              "      fill: #D2E3FC;\n",
              "    }\n",
              "\n",
              "    [theme=dark] .colab-df-convert:hover {\n",
              "      background-color: #434B5C;\n",
              "      box-shadow: 0px 1px 3px 1px rgba(0, 0, 0, 0.15);\n",
              "      filter: drop-shadow(0px 1px 2px rgba(0, 0, 0, 0.3));\n",
              "      fill: #FFFFFF;\n",
              "    }\n",
              "  </style>\n",
              "\n",
              "      <script>\n",
              "        const buttonEl =\n",
              "          document.querySelector('#df-67cce214-6256-4051-80c6-a999160689a3 button.colab-df-convert');\n",
              "        buttonEl.style.display =\n",
              "          google.colab.kernel.accessAllowed ? 'block' : 'none';\n",
              "\n",
              "        async function convertToInteractive(key) {\n",
              "          const element = document.querySelector('#df-67cce214-6256-4051-80c6-a999160689a3');\n",
              "          const dataTable =\n",
              "            await google.colab.kernel.invokeFunction('convertToInteractive',\n",
              "                                                     [key], {});\n",
              "          if (!dataTable) return;\n",
              "\n",
              "          const docLinkHtml = 'Like what you see? Visit the ' +\n",
              "            '<a target=\"_blank\" href=https://colab.research.google.com/notebooks/data_table.ipynb>data table notebook</a>'\n",
              "            + ' to learn more about interactive tables.';\n",
              "          element.innerHTML = '';\n",
              "          dataTable['output_type'] = 'display_data';\n",
              "          await google.colab.output.renderOutput(dataTable, element);\n",
              "          const docLink = document.createElement('div');\n",
              "          docLink.innerHTML = docLinkHtml;\n",
              "          element.appendChild(docLink);\n",
              "        }\n",
              "      </script>\n",
              "    </div>\n",
              "  </div>\n",
              "  "
            ],
            "text/plain": [
              "      according  accounting  administration  agreement  america  andersen  \\\n",
              "0           0.0         0.0             0.0        0.0      0.0       0.0   \n",
              "1           0.0         0.0             0.0        0.0      0.0       0.0   \n",
              "2           0.0         0.0             0.0        0.0      0.0       0.0   \n",
              "3           0.0         0.0             0.0        0.0      0.0       0.0   \n",
              "4           0.0         0.0             0.0        0.0      0.0       0.0   \n",
              "...         ...         ...             ...        ...      ...       ...   \n",
              "2600        0.0         0.0             0.0        0.0      0.0       0.0   \n",
              "2601        0.0         0.0             0.0        0.0      0.0       0.0   \n",
              "2602        0.0         0.0             0.0        0.0      0.0       0.0   \n",
              "2603        0.0         0.0             0.0        0.0      0.0       0.0   \n",
              "2604        0.0         0.0             0.0        0.0      0.0       0.0   \n",
              "\n",
              "      arthur     asked  assets  attached  ...  washington       way  week  \\\n",
              "0        0.0  0.000000     0.0       0.0  ...         0.0  0.000000   0.0   \n",
              "1        0.0  0.000000     0.0       0.0  ...         0.0  0.000000   0.0   \n",
              "2        0.0  0.000000     0.0       0.0  ...         0.0  0.000000   0.0   \n",
              "3        0.0  0.000000     0.0       0.0  ...         0.0  0.000000   0.0   \n",
              "4        0.0  0.000000     0.0       0.0  ...         0.0  0.000000   0.0   \n",
              "...      ...       ...     ...       ...  ...         ...       ...   ...   \n",
              "2600     0.0  0.000000     0.0       0.0  ...         0.0  0.000000   0.0   \n",
              "2601     0.0  0.000000     0.0       0.0  ...         0.0  0.000000   0.0   \n",
              "2602     0.0  0.000000     0.0       0.0  ...         0.0  0.172101   0.0   \n",
              "2603     0.0  0.129719     0.0       0.0  ...         0.0  0.000000   0.0   \n",
              "2604     0.0  0.000000     0.0       0.0  ...         0.0  0.000000   0.0   \n",
              "\n",
              "      white      work  working  year  years  yesterday  york  \n",
              "0       0.0  0.000000  0.00000   0.0    0.0        0.0   0.0  \n",
              "1       0.0  0.000000  0.00000   0.0    0.0        0.0   0.0  \n",
              "2       0.0  0.000000  0.00000   0.0    0.0        0.0   0.0  \n",
              "3       0.0  0.000000  0.00000   0.0    0.0        0.0   0.0  \n",
              "4       0.0  0.000000  0.00000   0.0    0.0        0.0   0.0  \n",
              "...     ...       ...      ...   ...    ...        ...   ...  \n",
              "2600    0.0  0.000000  0.00000   0.0    0.0        0.0   0.0  \n",
              "2601    0.0  0.150270  0.00000   0.0    0.0        0.0   0.0  \n",
              "2602    0.0  0.298867  0.00000   0.0    0.0        0.0   0.0  \n",
              "2603    0.0  0.000000  0.12247   0.0    0.0        0.0   0.0  \n",
              "2604    0.0  0.000000  0.00000   0.0    0.0        0.0   0.0  \n",
              "\n",
              "[2605 rows x 200 columns]"
            ]
          },
          "execution_count": 24,
          "metadata": {},
          "output_type": "execute_result"
        }
      ],
      "source": [
        "vectorized_df"
      ]
    },
    {
      "cell_type": "code",
      "execution_count": 25,
      "metadata": {
        "id": "GbFBYQz6ygp0"
      },
      "outputs": [],
      "source": [
        "vectorized_df.to_csv('finalexam_small.csv',index=False)"
      ]
    },
    {
      "cell_type": "code",
      "execution_count": 26,
      "metadata": {
        "id": "Fw3DPjJBH59r"
      },
      "outputs": [],
      "source": [
        "def top_tfidf_feats(row, features, top_n=20):\n",
        "    topn_ids = np.argsort(row)[::-1][:top_n]\n",
        "    top_feats = [(features[i], row[i]) for i in topn_ids]\n",
        "    df = pd.DataFrame(top_feats, columns=['features', 'score'])\n",
        "    return df\n",
        "def top_feats_in_doc(X, features, row_id, top_n=25):\n",
        "    row = np.squeeze(X[row_id].toarray())\n",
        "    return top_tfidf_feats(row, features, top_n)"
      ]
    },
    {
      "cell_type": "code",
      "execution_count": 27,
      "metadata": {
        "colab": {
          "base_uri": "https://localhost:8080/"
        },
        "id": "ScsgZgxOIDID",
        "outputId": "e86f51ab-e2fa-4bec-8c8e-36790f806d46"
      },
      "outputs": [
        {
          "name": "stdout",
          "output_type": "stream",
          "text": [
            "      features  score\n",
            "0         good    1.0\n",
            "1         york    0.0\n",
            "2    financial    0.0\n",
            "3         help    0.0\n",
            "4        group    0.0\n",
            "5   government    0.0\n",
            "6          got    0.0\n",
            "7        going    0.0\n",
            "8      general    0.0\n",
            "9          gas    0.0\n",
            "10       firms    0.0\n",
            "11        firm    0.0\n",
            "12       filed    0.0\n",
            "13   yesterday    0.0\n",
            "14     federal    0.0\n",
            "15      fastow    0.0\n",
            "16    expected    0.0\n",
            "17  executives    0.0\n",
            "18   executive    0.0\n",
            "19    exchange    0.0\n"
          ]
        },
        {
          "name": "stderr",
          "output_type": "stream",
          "text": [
            "/usr/local/lib/python3.7/dist-packages/sklearn/utils/deprecation.py:87: FutureWarning: Function get_feature_names is deprecated; get_feature_names is deprecated in 1.0 and will be removed in 1.2. Please use get_feature_names_out instead.\n",
            "  warnings.warn(msg, category=FutureWarning)\n"
          ]
        }
      ],
      "source": [
        "features = vect.get_feature_names()\n",
        "print(top_feats_in_doc(X, features, 0, 20))"
      ]
    },
    {
      "cell_type": "code",
      "execution_count": 28,
      "metadata": {
        "id": "AwRnZLiFI1_K"
      },
      "outputs": [],
      "source": [
        "def top_mean_feats(X, features,grp_ids=None, min_tfidf=0.1, top_n=25):\n",
        "    if grp_ids:\n",
        "        D = X[grp_ids].toarray()\n",
        "    else:\n",
        "        D = X.toarray()\n",
        "    D[D < min_tfidf] = 0\n",
        "    tfidf_means = np.mean(D, axis=0)\n",
        "    return top_tfidf_feats(tfidf_means, features, top_n)"
      ]
    },
    {
      "cell_type": "code",
      "execution_count": 29,
      "metadata": {
        "colab": {
          "base_uri": "https://localhost:8080/"
        },
        "id": "hnW46wblI7U3",
        "outputId": "208607cd-21a4-48a9-fd2e-49a436d6dd34"
      },
      "outputs": [
        {
          "name": "stdout",
          "output_type": "stream",
          "text": [
            "    features     score\n",
            "0      email  0.053811\n",
            "1       know  0.050684\n",
            "2        gas  0.048871\n",
            "3       need  0.043084\n",
            "4        let  0.040319\n",
            "5      legal  0.040297\n",
            "6  agreement  0.035485\n",
            "7    message  0.032746\n",
            "8        new  0.032427\n",
            "9   attached  0.030779\n"
          ]
        }
      ],
      "source": [
        "print(top_mean_feats(X, features, top_n=10))"
      ]
    },
    {
      "cell_type": "markdown",
      "metadata": {
        "id": "LyxTKvsAaUZ3"
      },
      "source": [
        "Let me remove all unnecessary columns"
      ]
    },
    {
      "cell_type": "code",
      "execution_count": 30,
      "metadata": {
        "colab": {
          "base_uri": "https://localhost:8080/",
          "height": 423
        },
        "id": "MfXWDTsvaaZ3",
        "outputId": "1ef75973-9331-458a-afd2-4284e8eb6cd6"
      },
      "outputs": [
        {
          "data": {
            "text/html": [
              "\n",
              "  <div id=\"df-7b3bf436-534a-48f4-b3e0-4ee15a97c231\">\n",
              "    <div class=\"colab-df-container\">\n",
              "      <div>\n",
              "<style scoped>\n",
              "    .dataframe tbody tr th:only-of-type {\n",
              "        vertical-align: middle;\n",
              "    }\n",
              "\n",
              "    .dataframe tbody tr th {\n",
              "        vertical-align: top;\n",
              "    }\n",
              "\n",
              "    .dataframe thead th {\n",
              "        text-align: right;\n",
              "    }\n",
              "</style>\n",
              "<table border=\"1\" class=\"dataframe\">\n",
              "  <thead>\n",
              "    <tr style=\"text-align: right;\">\n",
              "      <th></th>\n",
              "      <th>body</th>\n",
              "      <th>from</th>\n",
              "      <th>to</th>\n",
              "      <th>user</th>\n",
              "    </tr>\n",
              "  </thead>\n",
              "  <tbody>\n",
              "    <tr>\n",
              "      <th>0</th>\n",
              "      <td>good luck hope stay touchutku</td>\n",
              "      <td>[tom.may@enron.com]</td>\n",
              "      <td>[harry.arora@enron.com]</td>\n",
              "      <td>arora-h</td>\n",
              "    </tr>\n",
              "    <tr>\n",
              "      <th>1</th>\n",
              "      <td>files bigger limit trying one one</td>\n",
              "      <td>[hai.chen@enron.com]</td>\n",
              "      <td>[harry.arora@enron.com]</td>\n",
              "      <td>arora-h</td>\n",
              "    </tr>\n",
              "    <tr>\n",
              "      <th>2</th>\n",
              "      <td>tom hahnexecutive vice presidentapb energychap...</td>\n",
              "      <td>[tom.hahn@apbenergy.com]</td>\n",
              "      <td>[steve.wang@enron.com, robert.stalford@enron.c...</td>\n",
              "      <td>arora-h</td>\n",
              "    </tr>\n",
              "    <tr>\n",
              "      <th>3</th>\n",
              "      <td>good morning levels following today uspmiush t...</td>\n",
              "      <td>[wsandberg3@attbi.com]</td>\n",
              "      <td>[wsandberg3@attbi.com]</td>\n",
              "      <td>arora-h</td>\n",
              "    </tr>\n",
              "    <tr>\n",
              "      <th>4</th>\n",
              "      <td></td>\n",
              "      <td>[arsystem@mailman.enron.com]</td>\n",
              "      <td>[harry.arora@enron.com]</td>\n",
              "      <td>arora-h</td>\n",
              "    </tr>\n",
              "    <tr>\n",
              "      <th>...</th>\n",
              "      <td>...</td>\n",
              "      <td>...</td>\n",
              "      <td>...</td>\n",
              "      <td>...</td>\n",
              "    </tr>\n",
              "    <tr>\n",
              "      <th>2600</th>\n",
              "      <td>yesterdays cuts changes colstrip cut procedure...</td>\n",
              "      <td>[bill.williams@enron.com, Williams III, Bill]</td>\n",
              "      <td>[john.anderson@enron.com, todd.bland@enron.com...</td>\n",
              "      <td>williams-w3</td>\n",
              "    </tr>\n",
              "    <tr>\n",
              "      <th>2601</th>\n",
              "      <td>apparently notthe epe preschedule sheet mw len...</td>\n",
              "      <td>[bill.williams@enron.com, Symes, Kate, William...</td>\n",
              "      <td>[kate.symes@enron.com, Williams III, Bill, Sym...</td>\n",
              "      <td>williams-w3</td>\n",
              "    </tr>\n",
              "    <tr>\n",
              "      <th>2602</th>\n",
              "      <td>guy floor hes summer internand tuesday morning...</td>\n",
              "      <td>[bill.williams@enron.com]</td>\n",
              "      <td>[morganize@yahoo.com]</td>\n",
              "      <td>williams-w3</td>\n",
              "    </tr>\n",
              "    <tr>\n",
              "      <th>2603</th>\n",
              "      <td>asked every single counterparty nw sell us ene...</td>\n",
              "      <td>[bill.williams@enron.com, =09Malowney, John =20]</td>\n",
              "      <td>[john.malowney@enron.com, =09Williams III, Bill]</td>\n",
              "      <td>williams-w3</td>\n",
              "    </tr>\n",
              "    <tr>\n",
              "      <th>2604</th>\n",
              "      <td>thank jilldaveyou set meeting pm pacific pm ce...</td>\n",
              "      <td>[bill.williams@enron.com, Chatterton, Jill]</td>\n",
              "      <td>[jill.chatterton@enron.com, Poston, David]</td>\n",
              "      <td>williams-w3</td>\n",
              "    </tr>\n",
              "  </tbody>\n",
              "</table>\n",
              "<p>2605 rows × 4 columns</p>\n",
              "</div>\n",
              "      <button class=\"colab-df-convert\" onclick=\"convertToInteractive('df-7b3bf436-534a-48f4-b3e0-4ee15a97c231')\"\n",
              "              title=\"Convert this dataframe to an interactive table.\"\n",
              "              style=\"display:none;\">\n",
              "        \n",
              "  <svg xmlns=\"http://www.w3.org/2000/svg\" height=\"24px\"viewBox=\"0 0 24 24\"\n",
              "       width=\"24px\">\n",
              "    <path d=\"M0 0h24v24H0V0z\" fill=\"none\"/>\n",
              "    <path d=\"M18.56 5.44l.94 2.06.94-2.06 2.06-.94-2.06-.94-.94-2.06-.94 2.06-2.06.94zm-11 1L8.5 8.5l.94-2.06 2.06-.94-2.06-.94L8.5 2.5l-.94 2.06-2.06.94zm10 10l.94 2.06.94-2.06 2.06-.94-2.06-.94-.94-2.06-.94 2.06-2.06.94z\"/><path d=\"M17.41 7.96l-1.37-1.37c-.4-.4-.92-.59-1.43-.59-.52 0-1.04.2-1.43.59L10.3 9.45l-7.72 7.72c-.78.78-.78 2.05 0 2.83L4 21.41c.39.39.9.59 1.41.59.51 0 1.02-.2 1.41-.59l7.78-7.78 2.81-2.81c.8-.78.8-2.07 0-2.86zM5.41 20L4 18.59l7.72-7.72 1.47 1.35L5.41 20z\"/>\n",
              "  </svg>\n",
              "      </button>\n",
              "      \n",
              "  <style>\n",
              "    .colab-df-container {\n",
              "      display:flex;\n",
              "      flex-wrap:wrap;\n",
              "      gap: 12px;\n",
              "    }\n",
              "\n",
              "    .colab-df-convert {\n",
              "      background-color: #E8F0FE;\n",
              "      border: none;\n",
              "      border-radius: 50%;\n",
              "      cursor: pointer;\n",
              "      display: none;\n",
              "      fill: #1967D2;\n",
              "      height: 32px;\n",
              "      padding: 0 0 0 0;\n",
              "      width: 32px;\n",
              "    }\n",
              "\n",
              "    .colab-df-convert:hover {\n",
              "      background-color: #E2EBFA;\n",
              "      box-shadow: 0px 1px 2px rgba(60, 64, 67, 0.3), 0px 1px 3px 1px rgba(60, 64, 67, 0.15);\n",
              "      fill: #174EA6;\n",
              "    }\n",
              "\n",
              "    [theme=dark] .colab-df-convert {\n",
              "      background-color: #3B4455;\n",
              "      fill: #D2E3FC;\n",
              "    }\n",
              "\n",
              "    [theme=dark] .colab-df-convert:hover {\n",
              "      background-color: #434B5C;\n",
              "      box-shadow: 0px 1px 3px 1px rgba(0, 0, 0, 0.15);\n",
              "      filter: drop-shadow(0px 1px 2px rgba(0, 0, 0, 0.3));\n",
              "      fill: #FFFFFF;\n",
              "    }\n",
              "  </style>\n",
              "\n",
              "      <script>\n",
              "        const buttonEl =\n",
              "          document.querySelector('#df-7b3bf436-534a-48f4-b3e0-4ee15a97c231 button.colab-df-convert');\n",
              "        buttonEl.style.display =\n",
              "          google.colab.kernel.accessAllowed ? 'block' : 'none';\n",
              "\n",
              "        async function convertToInteractive(key) {\n",
              "          const element = document.querySelector('#df-7b3bf436-534a-48f4-b3e0-4ee15a97c231');\n",
              "          const dataTable =\n",
              "            await google.colab.kernel.invokeFunction('convertToInteractive',\n",
              "                                                     [key], {});\n",
              "          if (!dataTable) return;\n",
              "\n",
              "          const docLinkHtml = 'Like what you see? Visit the ' +\n",
              "            '<a target=\"_blank\" href=https://colab.research.google.com/notebooks/data_table.ipynb>data table notebook</a>'\n",
              "            + ' to learn more about interactive tables.';\n",
              "          element.innerHTML = '';\n",
              "          dataTable['output_type'] = 'display_data';\n",
              "          await google.colab.output.renderOutput(dataTable, element);\n",
              "          const docLink = document.createElement('div');\n",
              "          docLink.innerHTML = docLinkHtml;\n",
              "          element.appendChild(docLink);\n",
              "        }\n",
              "      </script>\n",
              "    </div>\n",
              "  </div>\n",
              "  "
            ],
            "text/plain": [
              "                                                   body  \\\n",
              "0                        good luck hope stay touchutku    \n",
              "1                    files bigger limit trying one one    \n",
              "2     tom hahnexecutive vice presidentapb energychap...   \n",
              "3     good morning levels following today uspmiush t...   \n",
              "4                                                         \n",
              "...                                                 ...   \n",
              "2600  yesterdays cuts changes colstrip cut procedure...   \n",
              "2601  apparently notthe epe preschedule sheet mw len...   \n",
              "2602  guy floor hes summer internand tuesday morning...   \n",
              "2603  asked every single counterparty nw sell us ene...   \n",
              "2604  thank jilldaveyou set meeting pm pacific pm ce...   \n",
              "\n",
              "                                                   from  \\\n",
              "0                                   [tom.may@enron.com]   \n",
              "1                                  [hai.chen@enron.com]   \n",
              "2                              [tom.hahn@apbenergy.com]   \n",
              "3                                [wsandberg3@attbi.com]   \n",
              "4                          [arsystem@mailman.enron.com]   \n",
              "...                                                 ...   \n",
              "2600      [bill.williams@enron.com, Williams III, Bill]   \n",
              "2601  [bill.williams@enron.com, Symes, Kate, William...   \n",
              "2602                          [bill.williams@enron.com]   \n",
              "2603   [bill.williams@enron.com, =09Malowney, John =20]   \n",
              "2604        [bill.williams@enron.com, Chatterton, Jill]   \n",
              "\n",
              "                                                     to         user  \n",
              "0                               [harry.arora@enron.com]      arora-h  \n",
              "1                               [harry.arora@enron.com]      arora-h  \n",
              "2     [steve.wang@enron.com, robert.stalford@enron.c...      arora-h  \n",
              "3                                [wsandberg3@attbi.com]      arora-h  \n",
              "4                               [harry.arora@enron.com]      arora-h  \n",
              "...                                                 ...          ...  \n",
              "2600  [john.anderson@enron.com, todd.bland@enron.com...  williams-w3  \n",
              "2601  [kate.symes@enron.com, Williams III, Bill, Sym...  williams-w3  \n",
              "2602                              [morganize@yahoo.com]  williams-w3  \n",
              "2603   [john.malowney@enron.com, =09Williams III, Bill]  williams-w3  \n",
              "2604         [jill.chatterton@enron.com, Poston, David]  williams-w3  \n",
              "\n",
              "[2605 rows x 4 columns]"
            ]
          },
          "execution_count": 30,
          "metadata": {},
          "output_type": "execute_result"
        }
      ],
      "source": [
        "df"
      ]
    },
    {
      "cell_type": "code",
      "execution_count": 31,
      "metadata": {
        "id": "GylTnoD9pTCP"
      },
      "outputs": [],
      "source": [
        "from sklearn.cluster import KMeans"
      ]
    },
    {
      "cell_type": "code",
      "execution_count": 32,
      "metadata": {
        "id": "pvBjb_5FaytB"
      },
      "outputs": [],
      "source": [
        "n_clusters = 3\n",
        "clf = KMeans(n_clusters=n_clusters, max_iter=100, init='k-means++', n_init=1)\n",
        "labels = clf.fit_predict(X)"
      ]
    },
    {
      "cell_type": "code",
      "execution_count": 33,
      "metadata": {
        "colab": {
          "base_uri": "https://localhost:8080/"
        },
        "id": "36bgAp5dmiYl",
        "outputId": "1d676220-b76c-4734-eb93-d1a95dcee7cb"
      },
      "outputs": [
        {
          "data": {
            "text/plain": [
              "array([1, 1, 1, ..., 1, 0, 1], dtype=int32)"
            ]
          },
          "execution_count": 33,
          "metadata": {},
          "output_type": "execute_result"
        }
      ],
      "source": [
        "labels"
      ]
    },
    {
      "cell_type": "code",
      "execution_count": 34,
      "metadata": {
        "id": "LRKWqEQfqVHn"
      },
      "outputs": [],
      "source": [
        "from sklearn.decomposition import PCA\n",
        "import matplotlib.pyplot as plt"
      ]
    },
    {
      "cell_type": "code",
      "execution_count": 35,
      "metadata": {
        "colab": {
          "base_uri": "https://localhost:8080/",
          "height": 354
        },
        "id": "NG60a2qvpbUp",
        "outputId": "74971b63-9cd4-40ec-e187-0941bd6f3f7b"
      },
      "outputs": [
        {
          "name": "stderr",
          "output_type": "stream",
          "text": [
            "/usr/local/lib/python3.7/dist-packages/sklearn/utils/validation.py:598: FutureWarning: np.matrix usage is deprecated in 1.0 and will raise a TypeError in 1.2. Please convert to a numpy array with np.asarray. For more information see: https://numpy.org/doc/stable/reference/generated/numpy.matrix.html\n",
            "  FutureWarning,\n",
            "/usr/local/lib/python3.7/dist-packages/sklearn/utils/validation.py:598: FutureWarning: np.matrix usage is deprecated in 1.0 and will raise a TypeError in 1.2. Please convert to a numpy array with np.asarray. For more information see: https://numpy.org/doc/stable/reference/generated/numpy.matrix.html\n",
            "  FutureWarning,\n"
          ]
        },
        {
          "data": {
            "image/png": "[encoded data removed]",
            "text/plain": [
              "<Figure size 432x288 with 1 Axes>"
            ]
          },
          "metadata": {
            "needs_background": "light"
          },
          "output_type": "display_data"
        }
      ],
      "source": [
        "X_dense = X.todense()\n",
        "pca = PCA(n_components=2).fit(X_dense)\n",
        "coords = pca.transform(X_dense)\n",
        "\n",
        "# Lets plot it again, but this time we add some color to it.\n",
        "# This array needs to be at least the length of the n_clusters.\n",
        "label_colors = [\"#2AB0E9\", \"#2BAF74\", \"#D7665E\", \"#CCCCCC\", \n",
        "                \"#D2CA0D\", \"#522A64\", \"#A3DB05\", \"#FC6514\"]\n",
        "colors = [label_colors[i] for i in labels]\n",
        "\n",
        "plt.scatter(coords[:, 0], coords[:, 1], c=colors)\n",
        "# Plot the cluster centers\n",
        "centroids = clf.cluster_centers_\n",
        "centroid_coords = pca.transform(centroids)\n",
        "plt.scatter(centroid_coords[:, 0], centroid_coords[:, 1], marker='X', s=200, linewidths=2, c='#444d60')\n",
        "plt.show()"
      ]
    },
    {
      "cell_type": "code",
      "execution_count": 36,
      "metadata": {
        "colab": {
          "base_uri": "https://localhost:8080/",
          "height": 423
        },
        "id": "AXHj3GorghGg",
        "outputId": "4d3875b1-eb0b-4df3-d8b1-9e03ec746f3b"
      },
      "outputs": [
        {
          "data": {
            "text/html": [
              "\n",
              "  <div id=\"df-3f3e3e12-f6c6-4dd9-a2ff-c351e9800b91\">\n",
              "    <div class=\"colab-df-container\">\n",
              "      <div>\n",
              "<style scoped>\n",
              "    .dataframe tbody tr th:only-of-type {\n",
              "        vertical-align: middle;\n",
              "    }\n",
              "\n",
              "    .dataframe tbody tr th {\n",
              "        vertical-align: top;\n",
              "    }\n",
              "\n",
              "    .dataframe thead th {\n",
              "        text-align: right;\n",
              "    }\n",
              "</style>\n",
              "<table border=\"1\" class=\"dataframe\">\n",
              "  <thead>\n",
              "    <tr style=\"text-align: right;\">\n",
              "      <th></th>\n",
              "      <th>body</th>\n",
              "      <th>from</th>\n",
              "      <th>to</th>\n",
              "      <th>user</th>\n",
              "    </tr>\n",
              "  </thead>\n",
              "  <tbody>\n",
              "    <tr>\n",
              "      <th>0</th>\n",
              "      <td>good luck hope stay touchutku</td>\n",
              "      <td>[tom.may@enron.com]</td>\n",
              "      <td>[harry.arora@enron.com]</td>\n",
              "      <td>arora-h</td>\n",
              "    </tr>\n",
              "    <tr>\n",
              "      <th>1</th>\n",
              "      <td>files bigger limit trying one one</td>\n",
              "      <td>[hai.chen@enron.com]</td>\n",
              "      <td>[harry.arora@enron.com]</td>\n",
              "      <td>arora-h</td>\n",
              "    </tr>\n",
              "    <tr>\n",
              "      <th>2</th>\n",
              "      <td>tom hahnexecutive vice presidentapb energychap...</td>\n",
              "      <td>[tom.hahn@apbenergy.com]</td>\n",
              "      <td>[steve.wang@enron.com, robert.stalford@enron.c...</td>\n",
              "      <td>arora-h</td>\n",
              "    </tr>\n",
              "    <tr>\n",
              "      <th>3</th>\n",
              "      <td>good morning levels following today uspmiush t...</td>\n",
              "      <td>[wsandberg3@attbi.com]</td>\n",
              "      <td>[wsandberg3@attbi.com]</td>\n",
              "      <td>arora-h</td>\n",
              "    </tr>\n",
              "    <tr>\n",
              "      <th>4</th>\n",
              "      <td></td>\n",
              "      <td>[arsystem@mailman.enron.com]</td>\n",
              "      <td>[harry.arora@enron.com]</td>\n",
              "      <td>arora-h</td>\n",
              "    </tr>\n",
              "    <tr>\n",
              "      <th>...</th>\n",
              "      <td>...</td>\n",
              "      <td>...</td>\n",
              "      <td>...</td>\n",
              "      <td>...</td>\n",
              "    </tr>\n",
              "    <tr>\n",
              "      <th>2600</th>\n",
              "      <td>yesterdays cuts changes colstrip cut procedure...</td>\n",
              "      <td>[bill.williams@enron.com, Williams III, Bill]</td>\n",
              "      <td>[john.anderson@enron.com, todd.bland@enron.com...</td>\n",
              "      <td>williams-w3</td>\n",
              "    </tr>\n",
              "    <tr>\n",
              "      <th>2601</th>\n",
              "      <td>apparently notthe epe preschedule sheet mw len...</td>\n",
              "      <td>[bill.williams@enron.com, Symes, Kate, William...</td>\n",
              "      <td>[kate.symes@enron.com, Williams III, Bill, Sym...</td>\n",
              "      <td>williams-w3</td>\n",
              "    </tr>\n",
              "    <tr>\n",
              "      <th>2602</th>\n",
              "      <td>guy floor hes summer internand tuesday morning...</td>\n",
              "      <td>[bill.williams@enron.com]</td>\n",
              "      <td>[morganize@yahoo.com]</td>\n",
              "      <td>williams-w3</td>\n",
              "    </tr>\n",
              "    <tr>\n",
              "      <th>2603</th>\n",
              "      <td>asked every single counterparty nw sell us ene...</td>\n",
              "      <td>[bill.williams@enron.com, =09Malowney, John =20]</td>\n",
              "      <td>[john.malowney@enron.com, =09Williams III, Bill]</td>\n",
              "      <td>williams-w3</td>\n",
              "    </tr>\n",
              "    <tr>\n",
              "      <th>2604</th>\n",
              "      <td>thank jilldaveyou set meeting pm pacific pm ce...</td>\n",
              "      <td>[bill.williams@enron.com, Chatterton, Jill]</td>\n",
              "      <td>[jill.chatterton@enron.com, Poston, David]</td>\n",
              "      <td>williams-w3</td>\n",
              "    </tr>\n",
              "  </tbody>\n",
              "</table>\n",
              "<p>2605 rows × 4 columns</p>\n",
              "</div>\n",
              "      <button class=\"colab-df-convert\" onclick=\"convertToInteractive('df-3f3e3e12-f6c6-4dd9-a2ff-c351e9800b91')\"\n",
              "              title=\"Convert this dataframe to an interactive table.\"\n",
              "              style=\"display:none;\">\n",
              "        \n",
              "  <svg xmlns=\"http://www.w3.org/2000/svg\" height=\"24px\"viewBox=\"0 0 24 24\"\n",
              "       width=\"24px\">\n",
              "    <path d=\"M0 0h24v24H0V0z\" fill=\"none\"/>\n",
              "    <path d=\"M18.56 5.44l.94 2.06.94-2.06 2.06-.94-2.06-.94-.94-2.06-.94 2.06-2.06.94zm-11 1L8.5 8.5l.94-2.06 2.06-.94-2.06-.94L8.5 2.5l-.94 2.06-2.06.94zm10 10l.94 2.06.94-2.06 2.06-.94-2.06-.94-.94-2.06-.94 2.06-2.06.94z\"/><path d=\"M17.41 7.96l-1.37-1.37c-.4-.4-.92-.59-1.43-.59-.52 0-1.04.2-1.43.59L10.3 9.45l-7.72 7.72c-.78.78-.78 2.05 0 2.83L4 21.41c.39.39.9.59 1.41.59.51 0 1.02-.2 1.41-.59l7.78-7.78 2.81-2.81c.8-.78.8-2.07 0-2.86zM5.41 20L4 18.59l7.72-7.72 1.47 1.35L5.41 20z\"/>\n",
              "  </svg>\n",
              "      </button>\n",
              "      \n",
              "  <style>\n",
              "    .colab-df-container {\n",
              "      display:flex;\n",
              "      flex-wrap:wrap;\n",
              "      gap: 12px;\n",
              "    }\n",
              "\n",
              "    .colab-df-convert {\n",
              "      background-color: #E8F0FE;\n",
              "      border: none;\n",
              "      border-radius: 50%;\n",
              "      cursor: pointer;\n",
              "      display: none;\n",
              "      fill: #1967D2;\n",
              "      height: 32px;\n",
              "      padding: 0 0 0 0;\n",
              "      width: 32px;\n",
              "    }\n",
              "\n",
              "    .colab-df-convert:hover {\n",
              "      background-color: #E2EBFA;\n",
              "      box-shadow: 0px 1px 2px rgba(60, 64, 67, 0.3), 0px 1px 3px 1px rgba(60, 64, 67, 0.15);\n",
              "      fill: #174EA6;\n",
              "    }\n",
              "\n",
              "    [theme=dark] .colab-df-convert {\n",
              "      background-color: #3B4455;\n",
              "      fill: #D2E3FC;\n",
              "    }\n",
              "\n",
              "    [theme=dark] .colab-df-convert:hover {\n",
              "      background-color: #434B5C;\n",
              "      box-shadow: 0px 1px 3px 1px rgba(0, 0, 0, 0.15);\n",
              "      filter: drop-shadow(0px 1px 2px rgba(0, 0, 0, 0.3));\n",
              "      fill: #FFFFFF;\n",
              "    }\n",
              "  </style>\n",
              "\n",
              "      <script>\n",
              "        const buttonEl =\n",
              "          document.querySelector('#df-3f3e3e12-f6c6-4dd9-a2ff-c351e9800b91 button.colab-df-convert');\n",
              "        buttonEl.style.display =\n",
              "          google.colab.kernel.accessAllowed ? 'block' : 'none';\n",
              "\n",
              "        async function convertToInteractive(key) {\n",
              "          const element = document.querySelector('#df-3f3e3e12-f6c6-4dd9-a2ff-c351e9800b91');\n",
              "          const dataTable =\n",
              "            await google.colab.kernel.invokeFunction('convertToInteractive',\n",
              "                                                     [key], {});\n",
              "          if (!dataTable) return;\n",
              "\n",
              "          const docLinkHtml = 'Like what you see? Visit the ' +\n",
              "            '<a target=\"_blank\" href=https://colab.research.google.com/notebooks/data_table.ipynb>data table notebook</a>'\n",
              "            + ' to learn more about interactive tables.';\n",
              "          element.innerHTML = '';\n",
              "          dataTable['output_type'] = 'display_data';\n",
              "          await google.colab.output.renderOutput(dataTable, element);\n",
              "          const docLink = document.createElement('div');\n",
              "          docLink.innerHTML = docLinkHtml;\n",
              "          element.appendChild(docLink);\n",
              "        }\n",
              "      </script>\n",
              "    </div>\n",
              "  </div>\n",
              "  "
            ],
            "text/plain": [
              "                                                   body  \\\n",
              "0                        good luck hope stay touchutku    \n",
              "1                    files bigger limit trying one one    \n",
              "2     tom hahnexecutive vice presidentapb energychap...   \n",
              "3     good morning levels following today uspmiush t...   \n",
              "4                                                         \n",
              "...                                                 ...   \n",
              "2600  yesterdays cuts changes colstrip cut procedure...   \n",
              "2601  apparently notthe epe preschedule sheet mw len...   \n",
              "2602  guy floor hes summer internand tuesday morning...   \n",
              "2603  asked every single counterparty nw sell us ene...   \n",
              "2604  thank jilldaveyou set meeting pm pacific pm ce...   \n",
              "\n",
              "                                                   from  \\\n",
              "0                                   [tom.may@enron.com]   \n",
              "1                                  [hai.chen@enron.com]   \n",
              "2                              [tom.hahn@apbenergy.com]   \n",
              "3                                [wsandberg3@attbi.com]   \n",
              "4                          [arsystem@mailman.enron.com]   \n",
              "...                                                 ...   \n",
              "2600      [bill.williams@enron.com, Williams III, Bill]   \n",
              "2601  [bill.williams@enron.com, Symes, Kate, William...   \n",
              "2602                          [bill.williams@enron.com]   \n",
              "2603   [bill.williams@enron.com, =09Malowney, John =20]   \n",
              "2604        [bill.williams@enron.com, Chatterton, Jill]   \n",
              "\n",
              "                                                     to         user  \n",
              "0                               [harry.arora@enron.com]      arora-h  \n",
              "1                               [harry.arora@enron.com]      arora-h  \n",
              "2     [steve.wang@enron.com, robert.stalford@enron.c...      arora-h  \n",
              "3                                [wsandberg3@attbi.com]      arora-h  \n",
              "4                               [harry.arora@enron.com]      arora-h  \n",
              "...                                                 ...          ...  \n",
              "2600  [john.anderson@enron.com, todd.bland@enron.com...  williams-w3  \n",
              "2601  [kate.symes@enron.com, Williams III, Bill, Sym...  williams-w3  \n",
              "2602                              [morganize@yahoo.com]  williams-w3  \n",
              "2603   [john.malowney@enron.com, =09Williams III, Bill]  williams-w3  \n",
              "2604         [jill.chatterton@enron.com, Poston, David]  williams-w3  \n",
              "\n",
              "[2605 rows x 4 columns]"
            ]
          },
          "execution_count": 36,
          "metadata": {},
          "output_type": "execute_result"
        }
      ],
      "source": [
        "df"
      ]
    },
    {
      "cell_type": "code",
      "execution_count": 37,
      "metadata": {
        "colab": {
          "base_uri": "https://localhost:8080/",
          "height": 423
        },
        "id": "BtYV0ba2ghmJ",
        "outputId": "8f4739ec-ca12-4f9f-cbba-b9d9d4901f18"
      },
      "outputs": [
        {
          "data": {
            "text/html": [
              "\n",
              "  <div id=\"df-f86b2991-339d-4695-bbe9-2df5ebf53876\">\n",
              "    <div class=\"colab-df-container\">\n",
              "      <div>\n",
              "<style scoped>\n",
              "    .dataframe tbody tr th:only-of-type {\n",
              "        vertical-align: middle;\n",
              "    }\n",
              "\n",
              "    .dataframe tbody tr th {\n",
              "        vertical-align: top;\n",
              "    }\n",
              "\n",
              "    .dataframe thead th {\n",
              "        text-align: right;\n",
              "    }\n",
              "</style>\n",
              "<table border=\"1\" class=\"dataframe\">\n",
              "  <thead>\n",
              "    <tr style=\"text-align: right;\">\n",
              "      <th></th>\n",
              "      <th>body</th>\n",
              "      <th>user</th>\n",
              "    </tr>\n",
              "  </thead>\n",
              "  <tbody>\n",
              "    <tr>\n",
              "      <th>0</th>\n",
              "      <td>good luck hope stay touchutku</td>\n",
              "      <td>arora-h</td>\n",
              "    </tr>\n",
              "    <tr>\n",
              "      <th>1</th>\n",
              "      <td>files bigger limit trying one one</td>\n",
              "      <td>arora-h</td>\n",
              "    </tr>\n",
              "    <tr>\n",
              "      <th>2</th>\n",
              "      <td>tom hahnexecutive vice presidentapb energychap...</td>\n",
              "      <td>arora-h</td>\n",
              "    </tr>\n",
              "    <tr>\n",
              "      <th>3</th>\n",
              "      <td>good morning levels following today uspmiush t...</td>\n",
              "      <td>arora-h</td>\n",
              "    </tr>\n",
              "    <tr>\n",
              "      <th>4</th>\n",
              "      <td></td>\n",
              "      <td>arora-h</td>\n",
              "    </tr>\n",
              "    <tr>\n",
              "      <th>...</th>\n",
              "      <td>...</td>\n",
              "      <td>...</td>\n",
              "    </tr>\n",
              "    <tr>\n",
              "      <th>2600</th>\n",
              "      <td>yesterdays cuts changes colstrip cut procedure...</td>\n",
              "      <td>williams-w3</td>\n",
              "    </tr>\n",
              "    <tr>\n",
              "      <th>2601</th>\n",
              "      <td>apparently notthe epe preschedule sheet mw len...</td>\n",
              "      <td>williams-w3</td>\n",
              "    </tr>\n",
              "    <tr>\n",
              "      <th>2602</th>\n",
              "      <td>guy floor hes summer internand tuesday morning...</td>\n",
              "      <td>williams-w3</td>\n",
              "    </tr>\n",
              "    <tr>\n",
              "      <th>2603</th>\n",
              "      <td>asked every single counterparty nw sell us ene...</td>\n",
              "      <td>williams-w3</td>\n",
              "    </tr>\n",
              "    <tr>\n",
              "      <th>2604</th>\n",
              "      <td>thank jilldaveyou set meeting pm pacific pm ce...</td>\n",
              "      <td>williams-w3</td>\n",
              "    </tr>\n",
              "  </tbody>\n",
              "</table>\n",
              "<p>2605 rows × 2 columns</p>\n",
              "</div>\n",
              "      <button class=\"colab-df-convert\" onclick=\"convertToInteractive('df-f86b2991-339d-4695-bbe9-2df5ebf53876')\"\n",
              "              title=\"Convert this dataframe to an interactive table.\"\n",
              "              style=\"display:none;\">\n",
              "        \n",
              "  <svg xmlns=\"http://www.w3.org/2000/svg\" height=\"24px\"viewBox=\"0 0 24 24\"\n",
              "       width=\"24px\">\n",
              "    <path d=\"M0 0h24v24H0V0z\" fill=\"none\"/>\n",
              "    <path d=\"M18.56 5.44l.94 2.06.94-2.06 2.06-.94-2.06-.94-.94-2.06-.94 2.06-2.06.94zm-11 1L8.5 8.5l.94-2.06 2.06-.94-2.06-.94L8.5 2.5l-.94 2.06-2.06.94zm10 10l.94 2.06.94-2.06 2.06-.94-2.06-.94-.94-2.06-.94 2.06-2.06.94z\"/><path d=\"M17.41 7.96l-1.37-1.37c-.4-.4-.92-.59-1.43-.59-.52 0-1.04.2-1.43.59L10.3 9.45l-7.72 7.72c-.78.78-.78 2.05 0 2.83L4 21.41c.39.39.9.59 1.41.59.51 0 1.02-.2 1.41-.59l7.78-7.78 2.81-2.81c.8-.78.8-2.07 0-2.86zM5.41 20L4 18.59l7.72-7.72 1.47 1.35L5.41 20z\"/>\n",
              "  </svg>\n",
              "      </button>\n",
              "      \n",
              "  <style>\n",
              "    .colab-df-container {\n",
              "      display:flex;\n",
              "      flex-wrap:wrap;\n",
              "      gap: 12px;\n",
              "    }\n",
              "\n",
              "    .colab-df-convert {\n",
              "      background-color: #E8F0FE;\n",
              "      border: none;\n",
              "      border-radius: 50%;\n",
              "      cursor: pointer;\n",
              "      display: none;\n",
              "      fill: #1967D2;\n",
              "      height: 32px;\n",
              "      padding: 0 0 0 0;\n",
              "      width: 32px;\n",
              "    }\n",
              "\n",
              "    .colab-df-convert:hover {\n",
              "      background-color: #E2EBFA;\n",
              "      box-shadow: 0px 1px 2px rgba(60, 64, 67, 0.3), 0px 1px 3px 1px rgba(60, 64, 67, 0.15);\n",
              "      fill: #174EA6;\n",
              "    }\n",
              "\n",
              "    [theme=dark] .colab-df-convert {\n",
              "      background-color: #3B4455;\n",
              "      fill: #D2E3FC;\n",
              "    }\n",
              "\n",
              "    [theme=dark] .colab-df-convert:hover {\n",
              "      background-color: #434B5C;\n",
              "      box-shadow: 0px 1px 3px 1px rgba(0, 0, 0, 0.15);\n",
              "      filter: drop-shadow(0px 1px 2px rgba(0, 0, 0, 0.3));\n",
              "      fill: #FFFFFF;\n",
              "    }\n",
              "  </style>\n",
              "\n",
              "      <script>\n",
              "        const buttonEl =\n",
              "          document.querySelector('#df-f86b2991-339d-4695-bbe9-2df5ebf53876 button.colab-df-convert');\n",
              "        buttonEl.style.display =\n",
              "          google.colab.kernel.accessAllowed ? 'block' : 'none';\n",
              "\n",
              "        async function convertToInteractive(key) {\n",
              "          const element = document.querySelector('#df-f86b2991-339d-4695-bbe9-2df5ebf53876');\n",
              "          const dataTable =\n",
              "            await google.colab.kernel.invokeFunction('convertToInteractive',\n",
              "                                                     [key], {});\n",
              "          if (!dataTable) return;\n",
              "\n",
              "          const docLinkHtml = 'Like what you see? Visit the ' +\n",
              "            '<a target=\"_blank\" href=https://colab.research.google.com/notebooks/data_table.ipynb>data table notebook</a>'\n",
              "            + ' to learn more about interactive tables.';\n",
              "          element.innerHTML = '';\n",
              "          dataTable['output_type'] = 'display_data';\n",
              "          await google.colab.output.renderOutput(dataTable, element);\n",
              "          const docLink = document.createElement('div');\n",
              "          docLink.innerHTML = docLinkHtml;\n",
              "          element.appendChild(docLink);\n",
              "        }\n",
              "      </script>\n",
              "    </div>\n",
              "  </div>\n",
              "  "
            ],
            "text/plain": [
              "                                                   body         user\n",
              "0                        good luck hope stay touchutku       arora-h\n",
              "1                    files bigger limit trying one one       arora-h\n",
              "2     tom hahnexecutive vice presidentapb energychap...      arora-h\n",
              "3     good morning levels following today uspmiush t...      arora-h\n",
              "4                                                            arora-h\n",
              "...                                                 ...          ...\n",
              "2600  yesterdays cuts changes colstrip cut procedure...  williams-w3\n",
              "2601  apparently notthe epe preschedule sheet mw len...  williams-w3\n",
              "2602  guy floor hes summer internand tuesday morning...  williams-w3\n",
              "2603  asked every single counterparty nw sell us ene...  williams-w3\n",
              "2604  thank jilldaveyou set meeting pm pacific pm ce...  williams-w3\n",
              "\n",
              "[2605 rows x 2 columns]"
            ]
          },
          "execution_count": 37,
          "metadata": {},
          "output_type": "execute_result"
        }
      ],
      "source": [
        "df_1 = df.drop(['from','to'],axis=1)\n",
        "df_1"
      ]
    }
  ],
  "metadata": {
    "colab": {
      "collapsed_sections": [],
      "name": "CS267_Final_Exam_Gowtham_Chandrasekaran.ipynb",
      "provenance": []
    },
    "kernelspec": {
      "display_name": "Python 3",
      "name": "python3"
    },
    "language_info": {
      "name": "python"
    }
  },
  "nbformat": 4,
  "nbformat_minor": 0
}
